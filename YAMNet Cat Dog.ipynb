{
 "cells": [
  {
   "cell_type": "markdown",
   "id": "3971698e-2633-46c1-8cb7-0e86074fb8e6",
   "metadata": {},
   "source": [
    "# Import Required Libraries"
   ]
  },
  {
   "cell_type": "code",
   "execution_count": 2,
   "id": "4d5bb68e-f982-48f4-b46d-7a1cd9ed383c",
   "metadata": {},
   "outputs": [],
   "source": [
    "import numpy as np\n",
    "import pandas as pd\n",
    "import matplotlib.pyplot as plt\n",
    "import seaborn as sns\n",
    "import os\n",
    "import tensorflow as tf\n",
    "import tensorflow_hub as hub\n",
    "import tensorflow_io as tfio\n",
    "import scipy\n",
    "import librosa\n",
    "\n",
    "from scipy.io import wavfile"
   ]
  },
  {
   "cell_type": "markdown",
   "id": "ed86ef70-c713-48f7-bb88-0231e1985001",
   "metadata": {},
   "source": [
    "# Load Data"
   ]
  },
  {
   "cell_type": "code",
   "execution_count": 3,
   "id": "12626661-87ae-407c-ba5d-b77cf057cf2f",
   "metadata": {},
   "outputs": [],
   "source": [
    "root_dir = '/mnt/d/Datasets/audio_cats_dogs/cats_dogs/'"
   ]
  },
  {
   "cell_type": "code",
   "execution_count": 4,
   "id": "f25d50b3-e40c-47cf-8646-0f8992b349b3",
   "metadata": {},
   "outputs": [
    {
     "data": {
      "text/plain": [
       "['cat_1.wav', 'cat_10.wav', 'cat_100.wav', 'cat_101.wav', 'cat_102.wav']"
      ]
     },
     "execution_count": 4,
     "metadata": {},
     "output_type": "execute_result"
    }
   ],
   "source": [
    "files_temp = os.listdir(root_dir)\n",
    "files_temp[:5]"
   ]
  },
  {
   "cell_type": "code",
   "execution_count": 5,
   "id": "fd4a2adc-8d93-44b1-a2fc-d7466c407cbb",
   "metadata": {},
   "outputs": [],
   "source": [
    "files = []\n",
    "for file in files_temp:\n",
    "    if file.endswith('.wav'):\n",
    "        files.append(root_dir + file)"
   ]
  },
  {
   "cell_type": "code",
   "execution_count": 6,
   "id": "637e41af-40c4-4d1c-a282-2621599712fb",
   "metadata": {},
   "outputs": [
    {
     "data": {
      "text/html": [
       "<div>\n",
       "<style scoped>\n",
       "    .dataframe tbody tr th:only-of-type {\n",
       "        vertical-align: middle;\n",
       "    }\n",
       "\n",
       "    .dataframe tbody tr th {\n",
       "        vertical-align: top;\n",
       "    }\n",
       "\n",
       "    .dataframe thead th {\n",
       "        text-align: right;\n",
       "    }\n",
       "</style>\n",
       "<table border=\"1\" class=\"dataframe\">\n",
       "  <thead>\n",
       "    <tr style=\"text-align: right;\">\n",
       "      <th></th>\n",
       "      <th>File Path</th>\n",
       "    </tr>\n",
       "  </thead>\n",
       "  <tbody>\n",
       "    <tr>\n",
       "      <th>0</th>\n",
       "      <td>/mnt/d/Datasets/audio_cats_dogs/cats_dogs/cat_...</td>\n",
       "    </tr>\n",
       "    <tr>\n",
       "      <th>1</th>\n",
       "      <td>/mnt/d/Datasets/audio_cats_dogs/cats_dogs/cat_...</td>\n",
       "    </tr>\n",
       "    <tr>\n",
       "      <th>2</th>\n",
       "      <td>/mnt/d/Datasets/audio_cats_dogs/cats_dogs/cat_...</td>\n",
       "    </tr>\n",
       "    <tr>\n",
       "      <th>3</th>\n",
       "      <td>/mnt/d/Datasets/audio_cats_dogs/cats_dogs/cat_...</td>\n",
       "    </tr>\n",
       "    <tr>\n",
       "      <th>4</th>\n",
       "      <td>/mnt/d/Datasets/audio_cats_dogs/cats_dogs/cat_...</td>\n",
       "    </tr>\n",
       "  </tbody>\n",
       "</table>\n",
       "</div>"
      ],
      "text/plain": [
       "                                           File Path\n",
       "0  /mnt/d/Datasets/audio_cats_dogs/cats_dogs/cat_...\n",
       "1  /mnt/d/Datasets/audio_cats_dogs/cats_dogs/cat_...\n",
       "2  /mnt/d/Datasets/audio_cats_dogs/cats_dogs/cat_...\n",
       "3  /mnt/d/Datasets/audio_cats_dogs/cats_dogs/cat_...\n",
       "4  /mnt/d/Datasets/audio_cats_dogs/cats_dogs/cat_..."
      ]
     },
     "execution_count": 6,
     "metadata": {},
     "output_type": "execute_result"
    }
   ],
   "source": [
    "df = pd.DataFrame({'File Path': files})\n",
    "df.head()"
   ]
  },
  {
   "cell_type": "code",
   "execution_count": 7,
   "id": "7fb3dc5b-6d94-4151-9921-71739ae82460",
   "metadata": {},
   "outputs": [],
   "source": [
    "df['Label'] = df['File Path'].apply(lambda x: 1 if 'cat' in x.split('/')[-1] else 0)"
   ]
  },
  {
   "cell_type": "code",
   "execution_count": 8,
   "id": "88716420-8584-4aaf-beda-48178a9cb529",
   "metadata": {},
   "outputs": [
    {
     "data": {
      "text/html": [
       "<div>\n",
       "<style scoped>\n",
       "    .dataframe tbody tr th:only-of-type {\n",
       "        vertical-align: middle;\n",
       "    }\n",
       "\n",
       "    .dataframe tbody tr th {\n",
       "        vertical-align: top;\n",
       "    }\n",
       "\n",
       "    .dataframe thead th {\n",
       "        text-align: right;\n",
       "    }\n",
       "</style>\n",
       "<table border=\"1\" class=\"dataframe\">\n",
       "  <thead>\n",
       "    <tr style=\"text-align: right;\">\n",
       "      <th></th>\n",
       "      <th>File Path</th>\n",
       "      <th>Label</th>\n",
       "    </tr>\n",
       "  </thead>\n",
       "  <tbody>\n",
       "    <tr>\n",
       "      <th>0</th>\n",
       "      <td>/mnt/d/Datasets/audio_cats_dogs/cats_dogs/cat_...</td>\n",
       "      <td>1</td>\n",
       "    </tr>\n",
       "    <tr>\n",
       "      <th>1</th>\n",
       "      <td>/mnt/d/Datasets/audio_cats_dogs/cats_dogs/cat_...</td>\n",
       "      <td>1</td>\n",
       "    </tr>\n",
       "    <tr>\n",
       "      <th>2</th>\n",
       "      <td>/mnt/d/Datasets/audio_cats_dogs/cats_dogs/cat_...</td>\n",
       "      <td>1</td>\n",
       "    </tr>\n",
       "    <tr>\n",
       "      <th>3</th>\n",
       "      <td>/mnt/d/Datasets/audio_cats_dogs/cats_dogs/cat_...</td>\n",
       "      <td>1</td>\n",
       "    </tr>\n",
       "    <tr>\n",
       "      <th>4</th>\n",
       "      <td>/mnt/d/Datasets/audio_cats_dogs/cats_dogs/cat_...</td>\n",
       "      <td>1</td>\n",
       "    </tr>\n",
       "  </tbody>\n",
       "</table>\n",
       "</div>"
      ],
      "text/plain": [
       "                                           File Path  Label\n",
       "0  /mnt/d/Datasets/audio_cats_dogs/cats_dogs/cat_...      1\n",
       "1  /mnt/d/Datasets/audio_cats_dogs/cats_dogs/cat_...      1\n",
       "2  /mnt/d/Datasets/audio_cats_dogs/cats_dogs/cat_...      1\n",
       "3  /mnt/d/Datasets/audio_cats_dogs/cats_dogs/cat_...      1\n",
       "4  /mnt/d/Datasets/audio_cats_dogs/cats_dogs/cat_...      1"
      ]
     },
     "execution_count": 8,
     "metadata": {},
     "output_type": "execute_result"
    }
   ],
   "source": [
    "df.head()"
   ]
  },
  {
   "cell_type": "code",
   "execution_count": 9,
   "id": "b17d8f6b-b923-4b8f-bb92-3b6581ad75bf",
   "metadata": {},
   "outputs": [
    {
     "data": {
      "text/plain": [
       "Label\n",
       "1    164\n",
       "0    113\n",
       "Name: count, dtype: int64"
      ]
     },
     "execution_count": 9,
     "metadata": {},
     "output_type": "execute_result"
    }
   ],
   "source": [
    "df['Label'].value_counts()"
   ]
  },
  {
   "cell_type": "code",
   "execution_count": 10,
   "id": "c2be4fca-7b87-4ce6-8fde-ebe9956ebb99",
   "metadata": {},
   "outputs": [
    {
     "data": {
      "text/plain": [
       "(277, 2)"
      ]
     },
     "execution_count": 10,
     "metadata": {},
     "output_type": "execute_result"
    }
   ],
   "source": [
    "df.shape"
   ]
  },
  {
   "cell_type": "code",
   "execution_count": 11,
   "id": "7f88e000-985a-42ca-9082-581be879894b",
   "metadata": {},
   "outputs": [
    {
     "data": {
      "text/plain": [
       "<Axes: ylabel='count'>"
      ]
     },
     "execution_count": 11,
     "metadata": {},
     "output_type": "execute_result"
    },
    {
     "data": {
      "image/png": "[encoded data removed]",
      "text/plain": [
       "<Figure size 640x480 with 1 Axes>"
      ]
     },
     "metadata": {},
     "output_type": "display_data"
    }
   ],
   "source": [
    "df['Label'].value_counts().plot(kind='pie', autopct='%.1f%%')"
   ]
  },
  {
   "cell_type": "markdown",
   "id": "12ef2367-6a91-43a5-95ed-48069dc2e1c4",
   "metadata": {},
   "source": [
    "# Load Model"
   ]
  },
  {
   "cell_type": "code",
   "execution_count": 12,
   "id": "1f0a58a2-e426-434a-9329-bd47c67d5739",
   "metadata": {},
   "outputs": [],
   "source": [
    "yamnet_url = \"https://tfhub.dev/google/yamnet/1\"\n",
    "yamnet = hub.load(yamnet_url)"
   ]
  },
  {
   "cell_type": "markdown",
   "id": "d7a2e5bb-ee3f-4616-8efc-65f9e603d8f3",
   "metadata": {},
   "source": [
    "# Preprocess"
   ]
  },
  {
   "cell_type": "code",
   "execution_count": 28,
   "id": "34817b2f-e4c1-4e6c-9255-6ea94f53018b",
   "metadata": {},
   "outputs": [],
   "source": [
    "X = df['File Path']\n",
    "y = df['Label']"
   ]
  },
  {
   "cell_type": "code",
   "execution_count": 29,
   "id": "a82b1f8c-c7d3-42bb-8267-8ca5e7cbbea8",
   "metadata": {},
   "outputs": [
    {
     "name": "stdout",
     "output_type": "stream",
     "text": [
      "249 13 15\n"
     ]
    }
   ],
   "source": [
    "def train_validate_test_split(df):\n",
    "    df = df.sample(frac=1)\n",
    "    train_end = int(.9 * len(df.index))\n",
    "    validate_end = int(.05 * len(df.index)) + train_end\n",
    "    train = df.iloc[:train_end]\n",
    "    validate = df.iloc[train_end:validate_end]\n",
    "    test = df.iloc[validate_end:]\n",
    "    return train, validate, test\n",
    "\n",
    "df_train, df_validation, df_test = train_validate_test_split(df)\n",
    "print(len(df_train), len(df_validation), len(df_test))"
   ]
  },
  {
   "cell_type": "code",
   "execution_count": 61,
   "id": "52437f86-6f7f-4c9a-89c3-2c6053e6a017",
   "metadata": {},
   "outputs": [],
   "source": [
    "train_ds = tf.data.Dataset.from_tensor_slices((df_train['File Path'], df_train['Label']))\n",
    "valid_ds = tf.data.Dataset.from_tensor_slices((df_validation['File Path'], df_validation['Label']))\n",
    "test_ds = tf.data.Dataset.from_tensor_slices((df_test['File Path'], df_test['Label']))"
   ]
  },
  {
   "cell_type": "code",
   "execution_count": 1,
   "id": "20fc4c95-bae7-43e1-a4c1-4ff35b98e055",
   "metadata": {},
   "outputs": [],
   "source": [
    "# https://www.tensorflow.org/tutorials/audio/transfer_learning_audio?hl=en\n",
    "# def load_wav_16k_mono"
   ]
  },
  {
   "cell_type": "code",
   "execution_count": 63,
   "id": "c63a14e7-11a0-4c3b-8744-6d1a85581fe7",
   "metadata": {},
   "outputs": [],
   "source": [
    "def wav_map(file_path, label):\n",
    "    return load_wav_16k_mono(file_path), label"
   ]
  },
  {
   "cell_type": "code",
   "execution_count": 64,
   "id": "ed38258e-8cb1-452a-92d7-b374cf28871b",
   "metadata": {},
   "outputs": [],
   "source": [
    "def extract_yamnet_embeddings(wav_data, targets):\n",
    "    scores, embeddings, spectrogram = yamnet(wav_data)\n",
    "    num_embeddings = tf.shape(embeddings)[0]\n",
    "    return (embeddings, tf.repeat(targets, num_embeddings))"
   ]
  },
  {
   "cell_type": "code",
   "execution_count": 65,
   "id": "d2c35cfd-6745-4f63-9d24-3ced85bdcead",
   "metadata": {},
   "outputs": [
    {
     "name": "stderr",
     "output_type": "stream",
     "text": [
      "2024-01-06 00:41:56.064824: I tensorflow_io/core/kernels/cpu_check.cc:128] Your CPU supports instructions that this TensorFlow IO binary was not compiled to use: SSE3 SSE4.1 SSE4.2 AVX AVX2 FMA\n",
      "2024-01-06 00:41:56.092389: W tensorflow_io/core/kernels/audio_video_mp3_kernels.cc:271] libmp3lame.so.0 or lame functions are not available\n"
     ]
    },
    {
     "name": "stdout",
     "output_type": "stream",
     "text": [
      "WARNING:tensorflow:Using a while_loop for converting IO>AudioResample cause there is no registered converter for this op.\n"
     ]
    },
    {
     "name": "stderr",
     "output_type": "stream",
     "text": [
      "WARNING:tensorflow:Using a while_loop for converting IO>AudioResample cause there is no registered converter for this op.\n"
     ]
    }
   ],
   "source": [
    "def process_dataset(dataset):\n",
    "    return (\n",
    "        dataset\n",
    "        .map(wav_map)\n",
    "        .map(extract_yamnet_embeddings)\n",
    "        .unbatch()\n",
    "        .cache()\n",
    "        .shuffle(1000)\n",
    "        .batch(32)\n",
    "        .prefetch(tf.data.AUTOTUNE)\n",
    "    )\n",
    "\n",
    "train_ds = process_dataset(train_ds)\n",
    "valid_ds = process_dataset(valid_ds)\n",
    "test_ds = process_dataset(test_ds)"
   ]
  },
  {
   "cell_type": "markdown",
   "id": "1379e1ba-6d01-4764-abe2-674ae904ca9a",
   "metadata": {},
   "source": [
    "# Model"
   ]
  },
  {
   "cell_type": "code",
   "execution_count": 57,
   "id": "a614ee43-0846-44bb-a9af-a4b87812fb09",
   "metadata": {},
   "outputs": [],
   "source": [
    "tf.keras.backend.clear_session()\n",
    "\n",
    "model = tf.keras.Sequential([\n",
    "    tf.keras.layers.Input(shape=(1024), dtype=tf.float32),\n",
    "    tf.keras.layers.Dense(512, activation='relu'),\n",
    "    tf.keras.layers.Dense(2, activation='softmax')\n",
    "])"
   ]
  },
  {
   "cell_type": "code",
   "execution_count": 60,
   "id": "7e0a3fc1-11ad-4b20-a785-f59ec9bfbeb0",
   "metadata": {},
   "outputs": [],
   "source": [
    "model.compile(loss=\"sparse_categorical_crossentropy\", optimizer=\"adam\", metrics=[\"accuracy\"])\n",
    "early_stopping = tf.keras.callbacks.EarlyStopping(monitor='val_loss', patience=3)"
   ]
  },
  {
   "cell_type": "code",
   "execution_count": 61,
   "id": "1474f17f-0585-4dfa-855a-50f0e7428f6e",
   "metadata": {},
   "outputs": [
    {
     "name": "stdout",
     "output_type": "stream",
     "text": [
      "Epoch 1/50\n",
      "107/107 [==============================] - 1s 7ms/step - loss: 0.0059 - accuracy: 0.9979 - val_loss: 0.5736 - val_accuracy: 0.9193\n",
      "Epoch 2/50\n",
      "107/107 [==============================] - 1s 6ms/step - loss: 0.0151 - accuracy: 0.9974 - val_loss: 0.6004 - val_accuracy: 0.9283\n",
      "Epoch 3/50\n",
      "107/107 [==============================] - 1s 6ms/step - loss: 0.0114 - accuracy: 0.9977 - val_loss: 0.5060 - val_accuracy: 0.9327\n",
      "Epoch 4/50\n",
      "107/107 [==============================] - 1s 6ms/step - loss: 0.0051 - accuracy: 0.9991 - val_loss: 0.4023 - val_accuracy: 0.9417\n",
      "Epoch 5/50\n",
      "107/107 [==============================] - 1s 6ms/step - loss: 0.0379 - accuracy: 0.9988 - val_loss: 0.3713 - val_accuracy: 0.9507\n",
      "Epoch 6/50\n",
      "107/107 [==============================] - 1s 7ms/step - loss: 0.0302 - accuracy: 0.9982 - val_loss: 0.3829 - val_accuracy: 0.9507\n",
      "Epoch 7/50\n",
      "107/107 [==============================] - 1s 6ms/step - loss: 0.0064 - accuracy: 0.9982 - val_loss: 0.3930 - val_accuracy: 0.9507\n",
      "Epoch 8/50\n",
      "107/107 [==============================] - 1s 6ms/step - loss: 0.0151 - accuracy: 0.9994 - val_loss: 0.3642 - val_accuracy: 0.9596\n",
      "Epoch 9/50\n",
      "107/107 [==============================] - 1s 6ms/step - loss: 0.0024 - accuracy: 0.9988 - val_loss: 0.4131 - val_accuracy: 0.9507\n",
      "Epoch 10/50\n",
      "107/107 [==============================] - 1s 6ms/step - loss: 0.0213 - accuracy: 0.9988 - val_loss: 0.4377 - val_accuracy: 0.9462\n",
      "Epoch 11/50\n",
      "107/107 [==============================] - 1s 6ms/step - loss: 9.4032e-04 - accuracy: 0.9997 - val_loss: 0.3935 - val_accuracy: 0.9552\n"
     ]
    }
   ],
   "source": [
    "history = model.fit(train_ds, epochs=50, validation_data=valid_ds, callbacks=[early_stopping])"
   ]
  },
  {
   "cell_type": "code",
   "execution_count": 64,
   "id": "3a58ddba-270d-49a2-ba03-cda19c837d73",
   "metadata": {},
   "outputs": [
    {
     "data": {
      "text/html": [
       "<div>\n",
       "<style scoped>\n",
       "    .dataframe tbody tr th:only-of-type {\n",
       "        vertical-align: middle;\n",
       "    }\n",
       "\n",
       "    .dataframe tbody tr th {\n",
       "        vertical-align: top;\n",
       "    }\n",
       "\n",
       "    .dataframe thead th {\n",
       "        text-align: right;\n",
       "    }\n",
       "</style>\n",
       "<table border=\"1\" class=\"dataframe\">\n",
       "  <thead>\n",
       "    <tr style=\"text-align: right;\">\n",
       "      <th></th>\n",
       "      <th>loss</th>\n",
       "      <th>accuracy</th>\n",
       "      <th>val_loss</th>\n",
       "      <th>val_accuracy</th>\n",
       "    </tr>\n",
       "  </thead>\n",
       "  <tbody>\n",
       "    <tr>\n",
       "      <th>0</th>\n",
       "      <td>0.005874</td>\n",
       "      <td>0.997945</td>\n",
       "      <td>0.573623</td>\n",
       "      <td>0.919282</td>\n",
       "    </tr>\n",
       "    <tr>\n",
       "      <th>1</th>\n",
       "      <td>0.015145</td>\n",
       "      <td>0.997358</td>\n",
       "      <td>0.600354</td>\n",
       "      <td>0.928251</td>\n",
       "    </tr>\n",
       "    <tr>\n",
       "      <th>2</th>\n",
       "      <td>0.011366</td>\n",
       "      <td>0.997652</td>\n",
       "      <td>0.506030</td>\n",
       "      <td>0.932735</td>\n",
       "    </tr>\n",
       "    <tr>\n",
       "      <th>3</th>\n",
       "      <td>0.005148</td>\n",
       "      <td>0.999119</td>\n",
       "      <td>0.402273</td>\n",
       "      <td>0.941704</td>\n",
       "    </tr>\n",
       "    <tr>\n",
       "      <th>4</th>\n",
       "      <td>0.037946</td>\n",
       "      <td>0.998826</td>\n",
       "      <td>0.371312</td>\n",
       "      <td>0.950673</td>\n",
       "    </tr>\n",
       "  </tbody>\n",
       "</table>\n",
       "</div>"
      ],
      "text/plain": [
       "       loss  accuracy  val_loss  val_accuracy\n",
       "0  0.005874  0.997945  0.573623      0.919282\n",
       "1  0.015145  0.997358  0.600354      0.928251\n",
       "2  0.011366  0.997652  0.506030      0.932735\n",
       "3  0.005148  0.999119  0.402273      0.941704\n",
       "4  0.037946  0.998826  0.371312      0.950673"
      ]
     },
     "execution_count": 64,
     "metadata": {},
     "output_type": "execute_result"
    }
   ],
   "source": [
    "history_df = pd.DataFrame(history.history)\n",
    "history_df.head()"
   ]
  },
  {
   "cell_type": "code",
   "execution_count": 66,
   "id": "89b6a5eb-eeab-4036-a683-6ebe7c4326a9",
   "metadata": {},
   "outputs": [
    {
     "data": {
      "image/png": "[encoded data removed]",
      "text/plain": [
       "<Figure size 1200x300 with 2 Axes>"
      ]
     },
     "metadata": {},
     "output_type": "display_data"
    }
   ],
   "source": [
    "fig, axes = plt.subplots(1, 2, figsize=(12, 3))\n",
    "ax = axes.ravel()\n",
    "\n",
    "for i, metric in enumerate(['accuracy', 'loss']):\n",
    "    ax[i].plot(history.history[metric])\n",
    "    ax[i].plot(history.history['val_' + metric])\n",
    "    ax[i].set_xlabel('Epoch')\n",
    "    ax[i].set_ylabel(metric)\n",
    "    ax[i].set_ylim([0, 1])\n",
    "    ax[i].legend(['train', 'valid'])\n",
    "\n",
    "plt.show()"
   ]
  },
  {
   "cell_type": "code",
   "execution_count": 68,
   "id": "7165d97d-434b-4e25-9cf6-595510381447",
   "metadata": {},
   "outputs": [
    {
     "name": "stdout",
     "output_type": "stream",
     "text": [
      "Test Loss: 0.16961297392845154\n",
      "Test Accuracy: 0.9669811129570007\n"
     ]
    }
   ],
   "source": [
    "results = model.evaluate(test_ds, verbose=0)\n",
    "print(f'Test Loss: {results[0]}')\n",
    "print(f'Test Accuracy: {results[1]}')"
   ]
  },
  {
   "cell_type": "code",
   "execution_count": null,
   "id": "b0773e26-dee3-4d9e-bcca-f26665a37c5a",
   "metadata": {},
   "outputs": [],
   "source": []
  }
 ],
 "metadata": {
  "kernelspec": {
   "display_name": "Python 3 (ipykernel)",
   "language": "python",
   "name": "python3"
  },
  "language_info": {
   "codemirror_mode": {
    "name": "ipython",
    "version": 3
   },
   "file_extension": ".py",
   "mimetype": "text/x-python",
   "name": "python",
   "nbconvert_exporter": "python",
   "pygments_lexer": "ipython3",
   "version": "3.10.12"
  }
 },
 "nbformat": 4,
 "nbformat_minor": 5
}
